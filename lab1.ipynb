{
 "cells": [
  {
   "cell_type": "markdown",
   "id": "91aa5c69",
   "metadata": {},
   "source": [
    "LAB1"
   ]
  },
  {
   "cell_type": "code",
   "execution_count": 15,
   "id": "d43d5eec",
   "metadata": {},
   "outputs": [
    {
     "name": "stdout",
     "output_type": "stream",
     "text": [
      "Введите радиус круга: 0.5\n",
      "Введите координаты вершины 1 треугольника: 0 0\n",
      "Введите координаты вершины 2 треугольника: 2 0\n",
      "Введите координаты вершины 3 треугольника: 0 2\n",
      "Круг уместится в треугольнике\n",
      "Треугольник не уместится в круге\n"
     ]
    }
   ],
   "source": [
    "#1\n",
    "\n",
    "import math\n",
    "\n",
    "rc = float(input(\"Введите радиус круга: \"))\n",
    "x1, y1 = map(float, input(\"Введите координаты вершины 1 треугольника: \").split())\n",
    "x2, y2 = map(float, input(\"Введите координаты вершины 2 треугольника: \").split())\n",
    "x3, y3 = map(float, input(\"Введите координаты вершины 3 треугольника: \").split())\n",
    "\n",
    "a = math.sqrt((x2-x1)**2 + (y2-y1)**2)\n",
    "b = math.sqrt((x3-x2)**2 + (y3-y2)**2)\n",
    "c = math.sqrt((x1-x3)**2 + (y1-y3)**2)\n",
    "\n",
    "p = (a + b + c) / 2\n",
    "\n",
    "s = math.sqrt(p * (p - a) * (p - b) * (p - c))\n",
    "r = s / p\n",
    "\n",
    "if r >= rc:\n",
    "    print(\"Круг уместится в треугольнике\")\n",
    "else:\n",
    "    print(\"Круг не уместится в треугольнике\")\n",
    "\n",
    "R = (a * b * c) / (4 * s)\n",
    "\n",
    "if R <= rc:\n",
    "    print(\"Треугольник уместится в круге\")\n",
    "else:\n",
    "    print(\"Треугольник не уместится в круге\")"
   ]
  },
  {
   "cell_type": "code",
   "execution_count": 17,
   "id": "67b02885",
   "metadata": {},
   "outputs": [
    {
     "name": "stdout",
     "output_type": "stream",
     "text": [
      "Введите n: 4\n",
      "Число не пятизначное\n",
      "Введите n: 12345\n",
      "Кратно 3\n"
     ]
    }
   ],
   "source": [
    "#2\n",
    "n = abs(int(input(\"Введите n: \")))\n",
    "a = [int(i) for i in str(n)]\n",
    "while len(a) != 5:\n",
    "    print(\"Число не пятизначное\")\n",
    "    n = int(input(\"Введите n: \"))\n",
    "    a = [int(i) for i in str(n)]\n",
    "summa = sum(a)\n",
    "if summa % 3 == 0 or summa % 11 == 0:\n",
    "    if summa % 3 == 0 and summa % 11 == 0:\n",
    "        print(\"Кратно 3 и 11\")\n",
    "    else:\n",
    "        print(\"Кратно 3\" if summa % 3 == 0 else \"Кратно 11\")\n",
    "else:\n",
    "    print(\"Не кратно\")"
   ]
  },
  {
   "cell_type": "code",
   "execution_count": 18,
   "id": "277a9c1d",
   "metadata": {},
   "outputs": [],
   "source": [
    "#3\n",
    "arr = []\n",
    "with open(r\"C:\\Users\\Egor\\Documents\\labs\\lab1inputouput\\input3.txt\", 'r') as f:\n",
    "    for line in f:\n",
    "        arr += line.rsplit()\n",
    "\n",
    "a, b, e, c, d, f = map(int, (x[2:] for x in arr))\n",
    "\n",
    "det = a * d - b * c\n",
    "det1 = e * d - b * f\n",
    "det2 = a * f - c * e\n",
    "\n",
    "if det != 0:\n",
    "    x = det1 / det\n",
    "    y = det2 / det\n",
    "    str_res = 'x = ' + str(x) + ' y = ' + str(y)\n",
    "else:\n",
    "    if det1 == 0 and det2 == 0:\n",
    "        if a == b == c == d == 0:\n",
    "            if e != 0 or f != 0:\n",
    "                str_res = 'Решений нет'\n",
    "            else:\n",
    "                str_res = 'Бесконечно много решений'\n",
    "        else:\n",
    "            if a == 0 and c == 0:\n",
    "                if b != 0:\n",
    "                    y = e/b\n",
    "                else:\n",
    "                    y = f/d\n",
    "                str_res = 'x - любой y ='+ str(y)\n",
    "            else:\n",
    "                if b == 0 and d == 0:\n",
    "                    if a != 0:\n",
    "                        x = e/a\n",
    "                    else:\n",
    "                        x = f/c\n",
    "                    str_res = 'y - любой x = '+ str(x)\n",
    "                else:\n",
    "                    if b != 0:\n",
    "                        n = e/b\n",
    "                        k = -a/b\n",
    "                    else:\n",
    "                        n = f/d\n",
    "                        k = -c/d\n",
    "                    str_res = 'Бесконечно много решений, каждое из которых имеет вид y = kx+n. k = ' + str(k) + ' n = ' +str(n) + '\\n'\n",
    "    else:\n",
    "        str_res = 'Решений нет'\n",
    "\n",
    "with open(r\"C:\\Users\\Egor\\Documents\\labs\\lab1inputouput\\output3.txt\", 'w') as f:\n",
    "    f.write(str_res)"
   ]
  },
  {
   "cell_type": "code",
   "execution_count": 19,
   "id": "8d196be9",
   "metadata": {
    "scrolled": false
   },
   "outputs": [
    {
     "name": "stdout",
     "output_type": "stream",
     "text": [
      "Точки лежат в одной плоскости\n",
      "Точки не лежат на одной прямой\n"
     ]
    }
   ],
   "source": [
    "#4\n",
    "def create_a_vector(A, B):\n",
    "    AB = []\n",
    "    for i in range(len(A)):\n",
    "        AB.append(B[i] - A[i])\n",
    "    return AB\n",
    "\n",
    "def vector_product(a, b):\n",
    "    return [a[1]*b[2] - a[2]*b[1], a[2]*b[0] - a[0]*b[2], a[0]*b[1] - a[1]*b[0]]\n",
    "\n",
    "def mixed_product(a, b, c):\n",
    "    return a[0]*(b[1]*c[2]-b[2]*c[1]) - a[1]*(b[0]*c[2]-b[2]*c[0]) + a[2]*(b[0]*c[1] - b[1]*c[0])\n",
    "\n",
    "with open(r\"C:\\Users\\Egor\\Documents\\labs\\lab1inputouput\\input4.txt\", 'r') as f:\n",
    "    A, B, C, D = [list(map(int, x.strip().split(' '))) for x in f.readlines()]\n",
    "\n",
    "AB = create_a_vector(A,B)\n",
    "AC = create_a_vector(A,C)\n",
    "AD = create_a_vector(A,D)\n",
    "\n",
    "if mixed_product(AB, AC, AD) == 0:\n",
    "    print('Точки лежат в одной плоскости')\n",
    "\n",
    "    if vector_product(AB, AC) == vector_product(AB, AD):\n",
    "        print('Точки лежат на одной прямой')\n",
    "    else:\n",
    "        print('Точки не лежат на одной прямой')\n",
    "else:\n",
    "    print('Точки не лежат в одной плоскости\\Точки не лежат на одной прямой')"
   ]
  },
  {
   "cell_type": "code",
   "execution_count": 20,
   "id": "6ebe7e5d",
   "metadata": {},
   "outputs": [
    {
     "name": "stdout",
     "output_type": "stream",
     "text": [
      "Введите координату x центра окружности: 0\n",
      "Введите координату y центра окружности: 10\n",
      "Введите радиус окружности: 100\n",
      "Point:  (-65.31421600671734, -65.72353126623103)\n",
      "Min distance =  95.0122437048502\n"
     ]
    },
    {
     "data": {
      "image/png": "[encoded data removed]",
      "text/plain": [
       "<Figure size 640x480 with 1 Axes>"
      ]
     },
     "metadata": {},
     "output_type": "display_data"
    }
   ],
   "source": [
    "#5\n",
    "import matplotlib.pyplot as plt\n",
    "from math import pi, cos, sin, radians\n",
    "from random import random\n",
    "\n",
    "def point(h, k, r):\n",
    "    theta = random() * 2 * pi\n",
    "    b = []\n",
    "    for i in range(1, 11):\n",
    "        b.append((h + cos(theta + i * radians(36)) * r, k + sin(theta + i * radians(36)) * r))\n",
    "    return b\n",
    "\n",
    "x = float(input(\"Введите координату x центра окружности: \"))\n",
    "y = float(input(\"Введите координату y центра окружности: \"))\n",
    "r = float(input(\"Введите радиус окружности: \"))\n",
    "xy = point(x,y,r)\n",
    "\n",
    "if x == -3 and y == 6:\n",
    "    print(\"Min: \", r)\n",
    "    print(*xy)\n",
    "else:\n",
    "    a = [abs((x[0]+3) ** 2 + (x[1]-6) ** 2) ** 0.5 for x in xy]\n",
    "    m_min = min(a)\n",
    "    for i in range(len(a)):\n",
    "        if m_min == a[i]:\n",
    "            print(\"Point: \", xy[i])\n",
    "    print(\"Min distance = \", m_min)\n",
    "    \n",
    "xy.append((-3,6))\n",
    "\n",
    "figure, axes = plt.subplots()\n",
    "Drawing_uncolored_circle = plt.Circle((x, y), r, fill = False)\n",
    "axes.set_aspect(1)\n",
    "axes.add_artist(Drawing_uncolored_circle)\n",
    "plt.grid(True)\n",
    "plt.scatter(*zip(*xy))\n",
    "plt.title('Circle')\n",
    "plt.show()"
   ]
  },
  {
   "cell_type": "code",
   "execution_count": 1,
   "id": "709383c9",
   "metadata": {},
   "outputs": [
    {
     "name": "stdout",
     "output_type": "stream",
     "text": [
      "Введите количество чисел: 5\n",
      "\n",
      "Введите цифру: 1\n",
      "\n",
      "Введите цифру: 2\n",
      "\n",
      "Введите цифру: 3\n",
      "\n",
      "Введите цифру: 4\n",
      "\n",
      "Введите цифру: 5\n",
      "\n",
      "\n",
      "summa =  15 \n",
      "min =  1 \n",
      "max =  5\n"
     ]
    }
   ],
   "source": [
    "#6\n",
    "m = int(input('Введите количество чисел: '))\n",
    "summa = 0\n",
    "for i in range(m):\n",
    "    summa += int(input('\\nВведите цифру: '))\n",
    "print(\"\\n\\nsumma = \", summa, \"\\nmin = \", min(str(summa)),\"\\nmax = \", max(str(summa)))"
   ]
  },
  {
   "cell_type": "code",
   "execution_count": 1,
   "id": "55a521ae",
   "metadata": {},
   "outputs": [
    {
     "name": "stdout",
     "output_type": "stream",
     "text": [
      "Введите кол-во точек: 100000\n",
      "pi = 3.14644\n"
     ]
    }
   ],
   "source": [
    "#8\n",
    "from random import uniform\n",
    "\n",
    "N = int(input('Введите кол-во точек: '))\n",
    "cnt = 0\n",
    "\n",
    "for i in range(N):\n",
    "    x = uniform(0, 1)*2 - 1\n",
    "    y = uniform(0, 1)*2 - 1\n",
    "    if (x**2 + y**2) <= 1:\n",
    "        cnt += 1\n",
    "\n",
    "print('pi =', 4*cnt/N)\n"
   ]
  }
 ],
 "metadata": {
  "kernelspec": {
   "display_name": "Python 3 (ipykernel)",
   "language": "python",
   "name": "python3"
  },
  "language_info": {
   "codemirror_mode": {
    "name": "ipython",
    "version": 3
   },
   "file_extension": ".py",
   "mimetype": "text/x-python",
   "name": "python",
   "nbconvert_exporter": "python",
   "pygments_lexer": "ipython3",
   "version": "3.9.13"
  }
 },
 "nbformat": 4,
 "nbformat_minor": 5
}
